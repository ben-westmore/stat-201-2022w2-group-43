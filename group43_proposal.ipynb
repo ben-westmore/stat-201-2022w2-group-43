{
 "cells": [
  {
   "cell_type": "markdown",
   "id": "2c336295-d89f-44bc-8169-64c6dbf951ad",
   "metadata": {},
   "source": [
    "# STAT 201 Group 43 - Group Project Proposal"
   ]
  },
  {
   "cell_type": "markdown",
   "id": "d3bc9237-c2c0-4390-b97a-c894129274d7",
   "metadata": {},
   "source": [
    "## Title: Determining whether a mutant strain of the nematode C. elegans slows its rate of locomotion when in the presence of nutrients"
   ]
  },
  {
   "cell_type": "code",
   "execution_count": 2,
   "id": "49ff7fd6-1085-406c-8b26-3334c625c1fd",
   "metadata": {},
   "outputs": [],
   "source": [
    "# Please run this cell before continuing, installing packages if necessary.\n",
    "library(tidyverse)\n",
    "library(RColorBrewer)\n",
    "library(tidymodels)\n",
    "set.seed(2023)\n",
    "options(repr.plot.width = 14, repr.plot.height = 8)"
   ]
  },
  {
   "cell_type": "markdown",
   "id": "d4b7dd18-5d92-48c4-bd2a-af87a7c3981b",
   "metadata": {},
   "source": [
    "## Introduction\n",
    "\n",
    "[placeholder]"
   ]
  },
  {
   "cell_type": "markdown",
   "id": "d3c20c91-b92b-4f5f-8062-3092e314e1d3",
   "metadata": {},
   "source": [
    "## Preliminary results\n",
    "\n",
    "[placeholder]"
   ]
  },
  {
   "cell_type": "markdown",
   "id": "bf5c97ec-7d9a-4c9b-859a-023f69afdb2d",
   "metadata": {},
   "source": [
    "## Methods: Plan\n",
    "\n",
    "[placeholder]"
   ]
  },
  {
   "cell_type": "markdown",
   "id": "cdaa7a82-082c-44c1-b5a9-952d46d37918",
   "metadata": {},
   "source": [
    "## References\n",
    "\n",
    "[placeholder]"
   ]
  },
  {
   "cell_type": "code",
   "execution_count": null,
   "id": "46437088-8a7c-42e1-a912-ca3965a77f02",
   "metadata": {},
   "outputs": [],
   "source": []
  }
 ],
 "metadata": {
  "kernelspec": {
   "display_name": "R",
   "language": "R",
   "name": "ir"
  },
  "language_info": {
   "codemirror_mode": "r",
   "file_extension": ".r",
   "mimetype": "text/x-r-source",
   "name": "R",
   "pygments_lexer": "r",
   "version": "4.1.3"
  }
 },
 "nbformat": 4,
 "nbformat_minor": 5
}
