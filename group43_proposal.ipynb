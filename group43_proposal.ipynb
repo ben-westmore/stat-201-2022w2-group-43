{
 "cells": [
  {
   "cell_type": "markdown",
   "id": "2c336295-d89f-44bc-8169-64c6dbf951ad",
   "metadata": {},
   "source": [
    "# STAT 201 Group 43 - Group Project Proposal"
   ]
  },
  {
   "cell_type": "markdown",
   "id": "d3bc9237-c2c0-4390-b97a-c894129274d7",
   "metadata": {},
   "source": [
    "## Title: Determining whether a mutant strain of the nematode C. elegans slows its rate of locomotion when in the presence of nutrients"
   ]
  },
  {
   "cell_type": "code",
   "execution_count": 2,
   "id": "49ff7fd6-1085-406c-8b26-3334c625c1fd",
   "metadata": {},
   "outputs": [],
   "source": [
    "# Please run this cell before continuing, installing packages if necessary.\n",
    "library(tidyverse)\n",
    "library(RColorBrewer)\n",
    "library(tidymodels)\n",
    "set.seed(2023)\n",
    "options(repr.plot.width = 14, repr.plot.height = 8)"
   ]
  },
  {
   "cell_type": "markdown",
   "id": "d4b7dd18-5d92-48c4-bd2a-af87a7c3981b",
   "metadata": {},
   "source": [
    "## Introduction\n",
    "\n",
    "[placeholder]"
   ]
  },
  {
   "cell_type": "markdown",
   "id": "d3c20c91-b92b-4f5f-8062-3092e314e1d3",
   "metadata": {},
   "source": [
    "## Preliminary results\n",
    "\n",
    "[placeholder]"
   ]
  },
  {
   "cell_type": "code",
   "execution_count": 10,
   "id": "295902de-c9f7-48f3-a079-f7a03a8b570a",
   "metadata": {},
   "outputs": [
    {
     "data": {
      "text/html": [
       "<table class=\"dataframe\">\n",
       "<caption>A tibble: 6 × 19</caption>\n",
       "<thead>\n",
       "\t<tr><th scope=col>time_bin</th><th scope=col>worm</th><th scope=col>time</th><th scope=col>speed</th><th scope=col>x</th><th scope=col>y</th><th scope=col>angularspeed</th><th scope=col>pathlength</th><th scope=col>kink</th><th scope=col>bias</th><th scope=col>curve</th><th scope=col>dir</th><th scope=col>crab</th><th scope=col>length</th><th scope=col>midline</th><th scope=col>width</th><th scope=col>morphwidth</th><th scope=col>area</th><th scope=col>Strain</th></tr>\n",
       "\t<tr><th scope=col>&lt;dbl&gt;</th><th scope=col>&lt;dbl&gt;</th><th scope=col>&lt;dbl&gt;</th><th scope=col>&lt;dbl&gt;</th><th scope=col>&lt;dbl&gt;</th><th scope=col>&lt;dbl&gt;</th><th scope=col>&lt;dbl&gt;</th><th scope=col>&lt;dbl&gt;</th><th scope=col>&lt;dbl&gt;</th><th scope=col>&lt;dbl&gt;</th><th scope=col>&lt;dbl&gt;</th><th scope=col>&lt;dbl&gt;</th><th scope=col>&lt;dbl&gt;</th><th scope=col>&lt;dbl&gt;</th><th scope=col>&lt;dbl&gt;</th><th scope=col>&lt;dbl&gt;</th><th scope=col>&lt;dbl&gt;</th><th scope=col>&lt;dbl&gt;</th><th scope=col>&lt;chr&gt;</th></tr>\n",
       "</thead>\n",
       "<tbody>\n",
       "\t<tr><td>5</td><td> 27</td><td>4.707</td><td>0.2312</td><td>23.73</td><td>29.97</td><td>10.880</td><td>0.07470</td><td>57.80</td><td>1</td><td>42.10</td><td>0</td><td>0.02003</td><td>0.7560</td><td>0.9690</td><td>0.2386</td><td>0.0867</td><td>0.0871</td><td>N2_Food</td></tr>\n",
       "\t<tr><td>5</td><td>156</td><td>4.484</td><td>0.2195</td><td>36.94</td><td>25.75</td><td> 7.300</td><td>0.13040</td><td>34.50</td><td>1</td><td>31.17</td><td>0</td><td>0.02087</td><td>0.9320</td><td>1.0360</td><td>0.1998</td><td>0.1648</td><td>0.1556</td><td>N2_Food</td></tr>\n",
       "\t<tr><td>5</td><td>185</td><td>4.715</td><td>0.2563</td><td>25.62</td><td>24.98</td><td>34.660</td><td>0.08360</td><td>38.50</td><td>1</td><td>30.64</td><td>0</td><td>0.02118</td><td>0.7200</td><td>0.9310</td><td>0.2660</td><td>0.1404</td><td>0.1324</td><td>N2_Food</td></tr>\n",
       "\t<tr><td>5</td><td>192</td><td>4.600</td><td>0.1354</td><td>28.47</td><td>19.23</td><td> 5.484</td><td>0.06230</td><td>28.60</td><td>1</td><td>26.06</td><td>0</td><td>0.00981</td><td>0.5806</td><td>0.8200</td><td>0.1979</td><td>0.1378</td><td>0.1079</td><td>N2_Food</td></tr>\n",
       "\t<tr><td>5</td><td>198</td><td>4.715</td><td>0.1797</td><td>24.28</td><td>30.77</td><td> 3.680</td><td>0.05940</td><td>48.56</td><td>1</td><td>35.38</td><td>0</td><td>0.01484</td><td>0.7950</td><td>0.9263</td><td>0.1696</td><td>0.1467</td><td>0.1315</td><td>N2_Food</td></tr>\n",
       "\t<tr><td>5</td><td>208</td><td>4.824</td><td>0.2135</td><td>27.83</td><td>25.23</td><td> 5.035</td><td>0.05133</td><td>51.94</td><td>1</td><td>34.78</td><td>0</td><td>0.00853</td><td>0.8657</td><td>0.9717</td><td>0.2160</td><td>0.1774</td><td>0.1526</td><td>N2_Food</td></tr>\n",
       "</tbody>\n",
       "</table>\n"
      ],
      "text/latex": [
       "A tibble: 6 × 19\n",
       "\\begin{tabular}{lllllllllllllllllll}\n",
       " time\\_bin & worm & time & speed & x & y & angularspeed & pathlength & kink & bias & curve & dir & crab & length & midline & width & morphwidth & area & Strain\\\\\n",
       " <dbl> & <dbl> & <dbl> & <dbl> & <dbl> & <dbl> & <dbl> & <dbl> & <dbl> & <dbl> & <dbl> & <dbl> & <dbl> & <dbl> & <dbl> & <dbl> & <dbl> & <dbl> & <chr>\\\\\n",
       "\\hline\n",
       "\t 5 &  27 & 4.707 & 0.2312 & 23.73 & 29.97 & 10.880 & 0.07470 & 57.80 & 1 & 42.10 & 0 & 0.02003 & 0.7560 & 0.9690 & 0.2386 & 0.0867 & 0.0871 & N2\\_Food\\\\\n",
       "\t 5 & 156 & 4.484 & 0.2195 & 36.94 & 25.75 &  7.300 & 0.13040 & 34.50 & 1 & 31.17 & 0 & 0.02087 & 0.9320 & 1.0360 & 0.1998 & 0.1648 & 0.1556 & N2\\_Food\\\\\n",
       "\t 5 & 185 & 4.715 & 0.2563 & 25.62 & 24.98 & 34.660 & 0.08360 & 38.50 & 1 & 30.64 & 0 & 0.02118 & 0.7200 & 0.9310 & 0.2660 & 0.1404 & 0.1324 & N2\\_Food\\\\\n",
       "\t 5 & 192 & 4.600 & 0.1354 & 28.47 & 19.23 &  5.484 & 0.06230 & 28.60 & 1 & 26.06 & 0 & 0.00981 & 0.5806 & 0.8200 & 0.1979 & 0.1378 & 0.1079 & N2\\_Food\\\\\n",
       "\t 5 & 198 & 4.715 & 0.1797 & 24.28 & 30.77 &  3.680 & 0.05940 & 48.56 & 1 & 35.38 & 0 & 0.01484 & 0.7950 & 0.9263 & 0.1696 & 0.1467 & 0.1315 & N2\\_Food\\\\\n",
       "\t 5 & 208 & 4.824 & 0.2135 & 27.83 & 25.23 &  5.035 & 0.05133 & 51.94 & 1 & 34.78 & 0 & 0.00853 & 0.8657 & 0.9717 & 0.2160 & 0.1774 & 0.1526 & N2\\_Food\\\\\n",
       "\\end{tabular}\n"
      ],
      "text/markdown": [
       "\n",
       "A tibble: 6 × 19\n",
       "\n",
       "| time_bin &lt;dbl&gt; | worm &lt;dbl&gt; | time &lt;dbl&gt; | speed &lt;dbl&gt; | x &lt;dbl&gt; | y &lt;dbl&gt; | angularspeed &lt;dbl&gt; | pathlength &lt;dbl&gt; | kink &lt;dbl&gt; | bias &lt;dbl&gt; | curve &lt;dbl&gt; | dir &lt;dbl&gt; | crab &lt;dbl&gt; | length &lt;dbl&gt; | midline &lt;dbl&gt; | width &lt;dbl&gt; | morphwidth &lt;dbl&gt; | area &lt;dbl&gt; | Strain &lt;chr&gt; |\n",
       "|---|---|---|---|---|---|---|---|---|---|---|---|---|---|---|---|---|---|---|\n",
       "| 5 |  27 | 4.707 | 0.2312 | 23.73 | 29.97 | 10.880 | 0.07470 | 57.80 | 1 | 42.10 | 0 | 0.02003 | 0.7560 | 0.9690 | 0.2386 | 0.0867 | 0.0871 | N2_Food |\n",
       "| 5 | 156 | 4.484 | 0.2195 | 36.94 | 25.75 |  7.300 | 0.13040 | 34.50 | 1 | 31.17 | 0 | 0.02087 | 0.9320 | 1.0360 | 0.1998 | 0.1648 | 0.1556 | N2_Food |\n",
       "| 5 | 185 | 4.715 | 0.2563 | 25.62 | 24.98 | 34.660 | 0.08360 | 38.50 | 1 | 30.64 | 0 | 0.02118 | 0.7200 | 0.9310 | 0.2660 | 0.1404 | 0.1324 | N2_Food |\n",
       "| 5 | 192 | 4.600 | 0.1354 | 28.47 | 19.23 |  5.484 | 0.06230 | 28.60 | 1 | 26.06 | 0 | 0.00981 | 0.5806 | 0.8200 | 0.1979 | 0.1378 | 0.1079 | N2_Food |\n",
       "| 5 | 198 | 4.715 | 0.1797 | 24.28 | 30.77 |  3.680 | 0.05940 | 48.56 | 1 | 35.38 | 0 | 0.01484 | 0.7950 | 0.9263 | 0.1696 | 0.1467 | 0.1315 | N2_Food |\n",
       "| 5 | 208 | 4.824 | 0.2135 | 27.83 | 25.23 |  5.035 | 0.05133 | 51.94 | 1 | 34.78 | 0 | 0.00853 | 0.8657 | 0.9717 | 0.2160 | 0.1774 | 0.1526 | N2_Food |\n",
       "\n"
      ],
      "text/plain": [
       "  time_bin worm time  speed  x     y     angularspeed pathlength kink  bias\n",
       "1 5         27  4.707 0.2312 23.73 29.97 10.880       0.07470    57.80 1   \n",
       "2 5        156  4.484 0.2195 36.94 25.75  7.300       0.13040    34.50 1   \n",
       "3 5        185  4.715 0.2563 25.62 24.98 34.660       0.08360    38.50 1   \n",
       "4 5        192  4.600 0.1354 28.47 19.23  5.484       0.06230    28.60 1   \n",
       "5 5        198  4.715 0.1797 24.28 30.77  3.680       0.05940    48.56 1   \n",
       "6 5        208  4.824 0.2135 27.83 25.23  5.035       0.05133    51.94 1   \n",
       "  curve dir crab    length midline width  morphwidth area   Strain \n",
       "1 42.10 0   0.02003 0.7560 0.9690  0.2386 0.0867     0.0871 N2_Food\n",
       "2 31.17 0   0.02087 0.9320 1.0360  0.1998 0.1648     0.1556 N2_Food\n",
       "3 30.64 0   0.02118 0.7200 0.9310  0.2660 0.1404     0.1324 N2_Food\n",
       "4 26.06 0   0.00981 0.5806 0.8200  0.1979 0.1378     0.1079 N2_Food\n",
       "5 35.38 0   0.01484 0.7950 0.9263  0.1696 0.1467     0.1315 N2_Food\n",
       "6 34.78 0   0.00853 0.8657 0.9717  0.2160 0.1774     0.1526 N2_Food"
      ]
     },
     "metadata": {},
     "output_type": "display_data"
    },
    {
     "data": {
      "text/html": [
       "252756"
      ],
      "text/latex": [
       "252756"
      ],
      "text/markdown": [
       "252756"
      ],
      "text/plain": [
       "[1] 252756"
      ]
     },
     "metadata": {},
     "output_type": "display_data"
    }
   ],
   "source": [
    "worm_data_raw <- read_csv('N2_CB1112_baseline_output_12_11_2022.csv', show_col_types = FALSE)\n",
    "\n",
    "# head(worm_data_raw)\n",
    "# nrow(worm_data_raw)"
   ]
  },
  {
   "cell_type": "markdown",
   "id": "bf5c97ec-7d9a-4c9b-859a-023f69afdb2d",
   "metadata": {},
   "source": [
    "## Methods: Plan\n",
    "\n",
    "[placeholder]"
   ]
  },
  {
   "cell_type": "markdown",
   "id": "cdaa7a82-082c-44c1-b5a9-952d46d37918",
   "metadata": {},
   "source": [
    "## References\n",
    "\n",
    "[placeholder]"
   ]
  },
  {
   "cell_type": "code",
   "execution_count": null,
   "id": "46437088-8a7c-42e1-a912-ca3965a77f02",
   "metadata": {},
   "outputs": [],
   "source": []
  }
 ],
 "metadata": {
  "kernelspec": {
   "display_name": "R",
   "language": "R",
   "name": "ir"
  },
  "language_info": {
   "codemirror_mode": "r",
   "file_extension": ".r",
   "mimetype": "text/x-r-source",
   "name": "R",
   "pygments_lexer": "r",
   "version": "4.1.3"
  }
 },
 "nbformat": 4,
 "nbformat_minor": 5
}
